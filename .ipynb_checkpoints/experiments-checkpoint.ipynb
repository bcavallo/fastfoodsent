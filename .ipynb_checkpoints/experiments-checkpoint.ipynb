{
 "metadata": {
  "name": "",
  "signature": "sha256:487516b1a96738fa8adf10c8d56d41f48be77cfc4f5406522d56336b902aa167"
 },
 "nbformat": 3,
 "nbformat_minor": 0,
 "worksheets": []
}